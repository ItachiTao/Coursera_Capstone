{
 "cells": [
  {
   "cell_type": "code",
   "execution_count": null,
   "metadata": {
    "collapsed": true
   },
   "outputs": [],
   "source": [
    "# Introduction\n",
    "# Audience:\n",
    "# people who come to visit Chinatown in Austin or who like chinese food\n",
    "# problem:\n",
    "# 1 which Chinese restaurant shoule peole choose when they first come to Chinatown \n",
    "# 2 where can they go to have fun after they have lunch or dinner\n",
    "\n",
    "# Data Section - Description of data\n",
    "# The initial address will be obtained from google search 'Chinatown, Austin, TX', then it will be used to requet nearby Chinese restaurants by using foursquare API.\n",
    "# The requested data will be originally json format and then transformed into dataframe.\n",
    "# By getting the ratings and tips of all the Chinese restaurants using foursaqure API, people will be able to have the best option to decide which restaurant they should go\n",
    "# At last, we will explore the popular places and trending venues near the Chinese restaurant we choose and decide where to have fun after lunch."
   ]
  }
 ],
 "metadata": {
  "kernelspec": {
   "display_name": "Python 3",
   "language": "python",
   "name": "python3"
  },
  "language_info": {
   "codemirror_mode": {
    "name": "ipython",
    "version": 3
   },
   "file_extension": ".py",
   "mimetype": "text/x-python",
   "name": "python",
   "nbconvert_exporter": "python",
   "pygments_lexer": "ipython3",
   "version": "3.5.2"
  },
  "widgets": {
   "state": {},
   "version": "1.1.2"
  }
 },
 "nbformat": 4,
 "nbformat_minor": 2
}
